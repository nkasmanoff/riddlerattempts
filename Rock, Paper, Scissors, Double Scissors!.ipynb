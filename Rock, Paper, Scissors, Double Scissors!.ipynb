{
 "cells": [
  {
   "cell_type": "markdown",
   "metadata": {},
   "source": [
    "From Patrick Coate, a new and improved version of the game rock-paper-scissors:\n",
    "\n",
    "Besides the usual three options that players have — rock, paper or scissors — let’s add a fourth option, double scissors, which is played by making a scissors with two fingers on each side (like a Vulcan salute). Double scissors, being larger and tougher, defeat regular scissors, and just like regular scissors, they cut paper and are smashed by rock. The three traditional options interact just as they do in the standard game.\n",
    "\n",
    "A rock-paper-scissors-double scissors match is always played best two out of three (or, more precisely, first to win two throws, since there can be an unlimited number of ties). There is just one exception: If your opponent throws paper and you throw regular scissors, you immediately win the match regardless of the score.\n",
    "\n",
    "What is the optimal strategy at each possible score (0-0, 1-0, 0-1, 1-1)? (You can ignore any ties.) What is the probability of winning the match given a 1-0 lead?"
   ]
  },
  {
   "cell_type": "markdown",
   "metadata": {},
   "source": [
    "So there are 4 options: Rock, Paper, Scissors, Double Scissors (1, 2, 3, and 4) \n",
    "\n",
    "\n",
    "Needs to be a cyclical relation, Make an array of them, have each user randomly select one option, depending on what they pick that will see who is the winner! \n",
    "\n",
    "Something like if choice1=='paper' and choice2=='rock':\n",
    "                      print(\"1 wins!\")\n",
    "                      add to a counter what the score is, and the # of ties as the third colum\n",
    "Use this data to find ideal strategies\n",
    "\n",
    "Assume uniform randomness first, then add in any sorts of bias's later on"
   ]
  },
  {
   "cell_type": "code",
   "execution_count": 1,
   "metadata": {
    "collapsed": true
   },
   "outputs": [],
   "source": [
    "import random as rand"
   ]
  },
  {
   "cell_type": "code",
   "execution_count": 70,
   "metadata": {},
   "outputs": [
    {
     "name": "stdout",
     "output_type": "stream",
     "text": [
      "10000\n"
     ]
    }
   ],
   "source": [
    "options = ['rock','paper','scissors', 'double scissors']  #if you don't know anything about the new game and using any random option\n",
    "\n",
    "optimaloptions = ['rock','double scissors']\n",
    "seriescount = 0\n",
    "x = 10000\n",
    "\n",
    "\n",
    "#counters to keep track of the series \n",
    "yourwins = 0\n",
    "cpuwins = 0 \n",
    "ties = 0\n",
    "\n",
    "myserieswins = 0\n",
    "while seriescount<x:    #looping through x games, any more than x times in a series to 2 is absurd\n",
    "\n",
    "    #user1=rand.choice(options)\n",
    "    user1=\"rock\"\n",
    "    user2=rand.choice(optimaloptions)\n",
    "  #  print(\"You chose \" + user1)\n",
    "    if user1=='rock' and user2=='paper':\n",
    "     #   print(\"You lost!\")\n",
    "        cpuwins+=1\n",
    "    elif user1=='rock' and user2=='scissors':\n",
    "      #  print(\"You won!\")\n",
    "        yourwins+=1\n",
    "    elif user1=='rock' and user2=='double scissors':\n",
    "     #   print(\"You won!\") \n",
    "        yourwins+=1\n",
    "    elif user1=='paper' and user2=='rock':\n",
    "      #  print(\"You won!\")\n",
    "        yourwins+=1\n",
    "    elif user1=='paper' and user2=='scissors':\n",
    "      #  print(\"You lost!\")\n",
    "        cpuwins+=1\n",
    "    elif user1=='paper' and user2=='double scissors':\n",
    "      #  print(\"You lost!\")\n",
    "        cpuwins+=1\n",
    "    elif user1=='scissors' and user2=='rock':\n",
    "      #  print(\"You lost!\")\n",
    "        cpuwins+=1\n",
    "    elif user1=='scissors' and user2=='paper':\n",
    "      #  print(\"You won!\")\n",
    "        yourwins+=1\n",
    "    elif user1=='scissors' and user2=='double scissors':\n",
    "      #  print(\"You lost!\")\n",
    "        cpuwins+=1\n",
    "    elif user1=='double scissors' and user2=='rock':\n",
    "      #  print(\"You lost!\")\n",
    "        cpuwins+=1\n",
    "    elif user1=='double scissors' and user2=='paper':\n",
    "      #  print(\"You won!\")\n",
    "        yourwins+=1\n",
    "    elif user1=='double scissors' and user2=='scissors':\n",
    "      #  print(\"You won!\")\n",
    "        yourwins+=1\n",
    "    elif user1==user2:\n",
    "      #  print(\"its a tie!\")\n",
    "        ties+=1\n",
    "    if yourwins==2 or cpuwins==2:\n",
    "       # print(\"Final score: \" +str(yourwins)+ \" to \" + str(cpuwins) + \" with \" +str(ties) + \" tie(s)\")\n",
    "        seriescount+=1\n",
    "        if yourwins==2:\n",
    "            myserieswins+=1\n",
    "            \n",
    "        yourwins=0\n",
    "        cpuwins=0 \n",
    "        ties=0\n",
    "\n",
    "print(myserieswins)\n"
   ]
  },
  {
   "cell_type": "markdown",
   "metadata": {},
   "source": [
    "Idea: Keep picking one choice, have 100 series, and see how many times you win a series given an option, then consider this against always picking the random one, other variations etc."
   ]
  },
  {
   "cell_type": "code",
   "execution_count": 11,
   "metadata": {},
   "outputs": [
    {
     "data": {
      "text/plain": [
       "68"
      ]
     },
     "execution_count": 11,
     "metadata": {},
     "output_type": "execute_result"
    }
   ],
   "source": [
    "myserieswins"
   ]
  },
  {
   "cell_type": "code",
   "execution_count": 65,
   "metadata": {},
   "outputs": [
    {
     "data": {
      "text/plain": [
       "'rock'"
      ]
     },
     "execution_count": 65,
     "metadata": {},
     "output_type": "execute_result"
    }
   ],
   "source": [
    "rand.choice(optimaloptions)"
   ]
  },
  {
   "cell_type": "code",
   "execution_count": null,
   "metadata": {
    "collapsed": true
   },
   "outputs": [],
   "source": []
  }
 ],
 "metadata": {
  "kernelspec": {
   "display_name": "Python 3",
   "language": "python",
   "name": "python3"
  },
  "language_info": {
   "codemirror_mode": {
    "name": "ipython",
    "version": 3
   },
   "file_extension": ".py",
   "mimetype": "text/x-python",
   "name": "python",
   "nbconvert_exporter": "python",
   "pygments_lexer": "ipython3",
   "version": "3.6.1"
  }
 },
 "nbformat": 4,
 "nbformat_minor": 2
}
