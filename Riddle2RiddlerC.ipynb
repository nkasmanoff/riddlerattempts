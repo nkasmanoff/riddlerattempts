{
 "cells": [
  {
   "cell_type": "markdown",
   "metadata": {},
   "source": [
    "In the series finale of “The Office,” Kevin’s replacement, Dakota, discovers a mysterious symbol scribbled throughout Kevin’s accounting work. Confused, Dakota confronts her boss, Oscar, who explains that the symbol is a “keleven,” a number Kevin created to help him balance his accounts. In Kevin’s number system, the digit “keleven,” which is an integer that lies between two other single-digit integers, is inserted somewhere along the number line. Other than this insertion, all other digits remain in the usual order.\n",
    "\n",
    "We found the following calculations in Kevin’s notes:\n",
    "\n",
    "853 + 520 = 1473\n",
    "\n",
    "41×26 = 976\n",
    "\n",
    "Busy with other clerical work, Dakota hires you to figure out where keleven lies in Kevin’s number system. Where does it belong?\n",
    "\n",
    "Remember: “A mistake plus keleven gets you home by seven!”"
   ]
  },
  {
   "cell_type": "code",
   "execution_count": 1,
   "metadata": {
    "collapsed": true
   },
   "outputs": [],
   "source": [
    "import numpy as np\n"
   ]
  },
  {
   "cell_type": "markdown",
   "metadata": {},
   "source": [
    "To answer this I'm going to create a number line, where after inserting the keleven in somewhere, every digit afterwards will be one greater than it is now. This is pretty easy to accomplish with a for loop and an if statement. \n",
    "\n",
    "\n",
    "And to see if this is correct or not, I can compare the output of each number line value to the expressions given, and if the two are the same as the ones I recover, I found where the keleven is. Based on the hint, the keleven is probably around the 7. Here are my results. "
   ]
  },
  {
   "cell_type": "code",
   "execution_count": 32,
   "metadata": {},
   "outputs": [
    {
     "name": "stdout",
     "output_type": "stream",
     "text": [
      "[   0.    1.    2.    3.    4.    5.    6.    7.    8.    9.   10.   11.\n",
      "   12.   13.   14.   15.   16.   17.   18.   19.   20.   21.   22.   23.\n",
      "   24.   25.   26.   27.   28.   29.   30.   31.   32.   33.   34.   35.\n",
      "   36.   37.   38.   39.   40.   41.   42.   43.   44.   45.   46.   47.\n",
      "   48.   49.   50.   51.   52.   53.   54.   55.   56.   57.   58.   59.\n",
      "   60.   61.   62.   63.   64.   65.   66.   67.   68.   69.   70.   71.\n",
      "   72.   73.   74.   75.   76.   77.   78.   79.   80.   81.   82.   83.\n",
      "   84.   85.   86.   87.   88.   89.   90.   91.   92.   93.   94.   95.\n",
      "   96.   97.   98.   99.  100.]\n"
     ]
    }
   ],
   "source": [
    "numline = np.linspace(0,100,101)  #no need to do any more than this! \n",
    "print(numline)"
   ]
  },
  {
   "cell_type": "code",
   "execution_count": 33,
   "metadata": {},
   "outputs": [
    {
     "name": "stdout",
     "output_type": "stream",
     "text": [
      "[   0.    1.    2.    3.    4.    5.    6.    7.    9.   10.   11.   12.\n",
      "   13.   14.   15.   16.   17.   18.   19.   20.   21.   22.   23.   24.\n",
      "   25.   26.   27.   28.   29.   30.   31.   32.   33.   34.   35.   36.\n",
      "   37.   38.   39.   40.   41.   42.   43.   44.   45.   46.   47.   48.\n",
      "   49.   50.   51.   52.   53.   54.   55.   56.   57.   58.   59.   60.\n",
      "   61.   62.   63.   64.   65.   66.   67.   68.   69.   70.   71.   72.\n",
      "   73.   74.   75.   76.   77.   78.   79.   80.   81.   82.   83.   84.\n",
      "   85.   86.   87.   88.   89.   90.   91.   92.   93.   94.   95.   96.\n",
      "   97.   98.   99.  100.  101.]\n"
     ]
    }
   ],
   "source": [
    "for i in range(len(numline)):\n",
    "    #a mistake plus keleven gets you home by 7!\n",
    "    if i >7:   #putting the kelevin after the 7. \n",
    "        numline[i]+=1\n",
    "print(numline)"
   ]
  },
  {
   "cell_type": "markdown",
   "metadata": {},
   "source": [
    "These are the conditions: \n",
    "\n",
    "853 +520 =1473\n",
    "41×26 = 976\n",
    "\n",
    "So the 8th digit, fifth digit, and third digit form 853, and that added to another and so on. "
   ]
  },
  {
   "cell_type": "code",
   "execution_count": 34,
   "metadata": {},
   "outputs": [
    {
     "name": "stdout",
     "output_type": "stream",
     "text": [
      "9.0 5.0 3.0\n"
     ]
    }
   ],
   "source": [
    "#So now 853, according to this number line in real units, is 953. Proof below\n",
    "print(numline[8],numline[5],numline[3])"
   ]
  },
  {
   "cell_type": "code",
   "execution_count": 23,
   "metadata": {},
   "outputs": [
    {
     "name": "stdout",
     "output_type": "stream",
     "text": [
      "5.0 2.0 0.0\n"
     ]
    }
   ],
   "source": [
    "print(numline[5],numline[2],numline[0])"
   ]
  },
  {
   "cell_type": "code",
   "execution_count": 35,
   "metadata": {},
   "outputs": [
    {
     "name": "stdout",
     "output_type": "stream",
     "text": [
      "1.0 4.0 7.0 3.0\n"
     ]
    }
   ],
   "source": [
    "print(numline[1],numline[4],numline[7],numline[3])"
   ]
  },
  {
   "cell_type": "markdown",
   "metadata": {},
   "source": [
    "So eqn 1 works! Now the multiplication one.."
   ]
  },
  {
   "cell_type": "code",
   "execution_count": 24,
   "metadata": {},
   "outputs": [
    {
     "name": "stdout",
     "output_type": "stream",
     "text": [
      "4.0 1.0\n"
     ]
    }
   ],
   "source": [
    "print(numline[4],numline[1])"
   ]
  },
  {
   "cell_type": "code",
   "execution_count": 25,
   "metadata": {},
   "outputs": [
    {
     "name": "stdout",
     "output_type": "stream",
     "text": [
      "2.0 6.0\n"
     ]
    }
   ],
   "source": [
    "print(numline[2],numline[6])"
   ]
  },
  {
   "cell_type": "code",
   "execution_count": 26,
   "metadata": {},
   "outputs": [
    {
     "name": "stdout",
     "output_type": "stream",
     "text": [
      "10.0 7.0 6.0\n"
     ]
    }
   ],
   "source": [
    "print(numline[9],numline[7],numline[6])"
   ]
  },
  {
   "cell_type": "markdown",
   "metadata": {},
   "source": [
    "Both expressions are true. This is the correct placement of the keleven."
   ]
  },
  {
   "cell_type": "code",
   "execution_count": null,
   "metadata": {
    "collapsed": true
   },
   "outputs": [],
   "source": []
  }
 ],
 "metadata": {
  "kernelspec": {
   "display_name": "Python 3",
   "language": "python",
   "name": "python3"
  },
  "language_info": {
   "codemirror_mode": {
    "name": "ipython",
    "version": 3
   },
   "file_extension": ".py",
   "mimetype": "text/x-python",
   "name": "python",
   "nbconvert_exporter": "python",
   "pygments_lexer": "ipython3",
   "version": "3.6.1"
  }
 },
 "nbformat": 4,
 "nbformat_minor": 2
}
