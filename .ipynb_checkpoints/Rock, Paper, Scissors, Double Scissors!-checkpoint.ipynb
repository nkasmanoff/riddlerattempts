{
 "cells": [
  {
   "cell_type": "markdown",
   "metadata": {},
   "source": [
    "From Patrick Coate, a new and improved version of the game rock-paper-scissors:\n",
    "\n",
    "Besides the usual three options that players have — rock, paper or scissors — let’s add a fourth option, double scissors, which is played by making a scissors with two fingers on each side (like a Vulcan salute). Double scissors, being larger and tougher, defeat regular scissors, and just like regular scissors, they cut paper and are smashed by rock. The three traditional options interact just as they do in the standard game.\n",
    "\n",
    "A rock-paper-scissors-double scissors match is always played best two out of three (or, more precisely, first to win two throws, since there can be an unlimited number of ties). There is just one exception: If your opponent throws paper and you throw regular scissors, you immediately win the match regardless of the score.\n",
    "\n",
    "What is the optimal strategy at each possible score (0-0, 1-0, 0-1, 1-1)? (You can ignore any ties.) What is the probability of winning the match given a 1-0 lead?"
   ]
  },
  {
   "cell_type": "markdown",
   "metadata": {},
   "source": [
    "So there are 4 options: Rock, Paper, Scissors, Double Scissors (1, 2, 3, and 4) \n",
    "\n",
    "\n",
    "Needs to be a cyclical relation, Make an array of them, have each user randomly select one option, depending on what they pick that will see who is the winner! \n",
    "\n",
    "Something like if choice1=='paper' and choice2=='rock':\n",
    "                      print(\"1 wins!\")\n",
    "                      add to a counter what the score is, and the # of ties as the third colum\n",
    "Use this data to find ideal strategies\n",
    "\n",
    "Assume uniform randomness first, then add in any sorts of bias's later on"
   ]
  },
  {
   "cell_type": "code",
   "execution_count": null,
   "metadata": {
    "collapsed": true
   },
   "outputs": [],
   "source": [
    "%matplotlib notebook\n",
    "import numpy as np\n",
    "import random as rand\n",
    "import matplotlib.pyplot as plt; plt.rcdefaults()\n",
    "import numpy as np\n",
    "import matplotlib.pyplot as plt\n",
    " "
   ]
  },
  {
   "cell_type": "markdown",
   "metadata": {},
   "source": [
    "Idea: Keep picking one choice, have 10000 series, and see how many times you win a series given an option, then consider this against always picking the random one, other variations etc.\n",
    "\n",
    "\n",
    "Update: I see that the % popularity of each move is 35 rock, 35 double scissors, and 29 paper... Going to introduce these frequencies in my options to make my opponent favor rock and scissors x2, see if that affects strategy"
   ]
  },
  {
   "cell_type": "code",
   "execution_count": null,
   "metadata": {},
   "outputs": [],
   "source": [
    "options = ['rock','paper','scissors', 'double scissors']  #if you don't know anything about the new game and using any random option\n",
    "\n",
    "seriescount = 0\n",
    "\n",
    "\n",
    "\n",
    "\n",
    "\n",
    "x = 1000\n",
    "\n",
    "rocks = [\"rock\" for i in range(35)]\n",
    "papers = [\"paper\" for i in range(30)]\n",
    "dscissors = [\"double scissors\" for i in range(35)]\n",
    "\n",
    "optimaloptions = rocks + papers + dscissors\n",
    "\n",
    "def rpsds(choice):\n",
    "    options = ['rock','paper','scissors', 'double scissors']  #if you don't know anything about the new game and using any random option\n",
    "\n",
    "    seriescount = 0\n",
    "\n",
    "    x = 1000\n",
    "\n",
    "    rocks = [\"rock\" for i in range(35)]\n",
    "    papers = [\"paper\" for i in range(30)]\n",
    "    dscissors = [\"double scissors\" for i in range(35)]\n",
    "\n",
    "    optimaloptions = rocks + papers + dscissors\n",
    "\n",
    "#counters to keep track of the series \n",
    "    yourwins = 0\n",
    "    cpuwins = 0 \n",
    "    ties = 0\n",
    "\n",
    "    myserieswins = 0\n",
    "    while seriescount<x:    #looping through x games, any more than x times in a series to 2 is absurd\n",
    "        user1=str(choice)\n",
    "        user2=rand.choice(optimaloptions)\n",
    "  #  print(\"You chose \" + user1)\n",
    "        if user1=='rock' and user2=='paper':\n",
    "     #   print(\"You lost!\")\n",
    "            cpuwins+=1\n",
    "        elif user1=='rock' and user2=='scissors':\n",
    "      #  print(\"You won!\")\n",
    "            yourwins+=1\n",
    "        elif user1=='rock' and user2=='double scissors':\n",
    "     #   print(\"You won!\") \n",
    "            yourwins+=1\n",
    "        elif user1=='paper' and user2=='rock':\n",
    "      #  print(\"You won!\")\n",
    "            yourwins+=1\n",
    "        elif user1=='paper' and user2=='scissors':\n",
    "      #  print(\"You lost!\")\n",
    "            cpuwins+=1\n",
    "        elif user1=='paper' and user2=='double scissors':\n",
    "      #  print(\"You lost!\")\n",
    "            cpuwins+=1\n",
    "        elif user1=='scissors' and user2=='rock':\n",
    "      #  print(\"You lost!\")\n",
    "            cpuwins+=1\n",
    "        elif user1=='scissors' and user2=='paper':\n",
    "      #  print(\"You won!\")\n",
    "            yourwins+=1\n",
    "        elif user1=='scissors' and user2=='double scissors':\n",
    "      #  print(\"You lost!\")\n",
    "            cpuwins+=1\n",
    "        elif user1=='double scissors' and user2=='rock':\n",
    "      #  print(\"You lost!\")\n",
    "            cpuwins+=1\n",
    "        elif user1=='double scissors' and user2=='paper':\n",
    "      #  print(\"You won!\")\n",
    "            yourwins+=1\n",
    "        elif user1=='double scissors' and user2=='scissors':\n",
    "      #  print(\"You won!\")\n",
    "            yourwins+=1\n",
    "        elif user1==user2:\n",
    "      #  print(\"its a tie!\")\n",
    "            ties+=1\n",
    "    \n",
    "        if yourwins==2 or cpuwins==2:\n",
    "       # print(\"Final score: \" +str(yourwins)+ \" to \" + str(cpuwins) + \" with \" +str(ties) + \" tie(s)\")\n",
    "            seriescount+=1\n",
    "            if yourwins==2:\n",
    "                myserieswins+=1\n",
    "            \n",
    "            yourwins=0\n",
    "            cpuwins=0 \n",
    "            ties=0\n",
    "\n",
    "    return myserieswins"
   ]
  },
  {
   "cell_type": "code",
   "execution_count": null,
   "metadata": {},
   "outputs": [],
   "source": [
    "rpsds('rock')"
   ]
  },
  {
   "cell_type": "code",
   "execution_count": null,
   "metadata": {},
   "outputs": [],
   "source": [
    "objects = ('Rock', 'Paper', 'Scissors', 'Double Scissors')\n",
    "y_pos = np.arange(len(objects))\n",
    "performance = [rpsds('rock'),rpsds('paper'),rpsds('scissors'),rpsds('double scissors')]\n",
    "plt.barh(y_pos, performance, align='center', alpha=0.5)\n",
    "plt.yticks(y_pos, objects)\n",
    "plt.xlabel('Action')\n",
    "plt.title('How many best of 3 series you\"ll win out of 1000 based on one hand')\n",
    "plt.ylabel('Series Victories')"
   ]
  },
  {
   "cell_type": "code",
   "execution_count": null,
   "metadata": {},
   "outputs": [],
   "source": [
    "plt.show()"
   ]
  },
  {
   "cell_type": "code",
   "execution_count": null,
   "metadata": {
    "collapsed": true
   },
   "outputs": [],
   "source": []
  }
 ],
 "metadata": {
  "kernelspec": {
   "display_name": "Python 3",
   "language": "python",
   "name": "python3"
  },
  "language_info": {
   "codemirror_mode": {
    "name": "ipython",
    "version": 3
   },
   "file_extension": ".py",
   "mimetype": "text/x-python",
   "name": "python",
   "nbconvert_exporter": "python",
   "pygments_lexer": "ipython3",
   "version": "3.6.1"
  },
  "widgets": {
   "application/vnd.jupyter.widget-state+json": {
    "state": {},
    "version_major": 1,
    "version_minor": 0
   }
  }
 },
 "nbformat": 4,
 "nbformat_minor": 2
}
