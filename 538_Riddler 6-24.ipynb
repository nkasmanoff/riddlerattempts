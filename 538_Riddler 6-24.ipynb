{
 "cells": [
  {
   "cell_type": "code",
   "execution_count": 18,
   "metadata": {
    "collapsed": false
   },
   "outputs": [
    {
     "name": "stdout",
     "output_type": "stream",
     "text": [
      "The best amount to take each time is 0.9977136813097948\n",
      "The best amount to take each time is 0.9977039833618893\n",
      "The best amount to take each time is 0.9863330020225507\n",
      "The best amount to take each time is 0.9971596905067885\n",
      "The best amount to take each time is 0.994424056026239\n",
      "The best amount to take each time is 0.9957383796722772\n",
      "The best amount to take each time is 0.9794459452190876\n",
      "The best amount to take each time is 0.9896135712062774\n",
      "The best amount to take each time is 0.99473568069581\n",
      "The best amount to take each time is 0.9946381142751589\n",
      "The best amount to take each time is 0.98922876782341\n"
     ]
    }
   ],
   "source": [
    "import numpy as np\n",
    "import random as rand\n",
    "import statistics as s\n",
    "#initial amount of coffee in pot each time:\n",
    "pot=1\n",
    "\n",
    "\n",
    "#employee generator\n",
    "trial = 0\n",
    "avgbest = []\n",
    "while trial<=10:\n",
    "    employees = []\n",
    "    #starbucks has 254000 employees, and trustable source in coffee \n",
    "    for i in range(300):\n",
    "         employees.append(rand.uniform(0,1))\n",
    "        #probably a dire mistake to say these guesses by people will be uni\n",
    "        \n",
    "\n",
    "\n",
    "    #randomly generate order, lets say it goes c,b,a \n",
    "\n",
    "\n",
    "\n",
    "    #set day as a big number, this is how many times, fix this soon!\n",
    "\n",
    "    day=150\n",
    "    howmuch = np.zeros(len(employees))\n",
    "    while day>=0:\n",
    "    \n",
    "        for cup in range(len(employees)):\n",
    "            if pot-employees[cup] >=0:\n",
    "                #if the pot is still not empty after taking, that's how much is left, and add this to a trip\n",
    "                pot=pot-employees[cup]\n",
    "                howmuch[cup]=howmuch[cup] +1          \n",
    "            else:\n",
    "                #sorry, refill the pot\n",
    "                pot=1\n",
    "    \n",
    "        day=day-1\n",
    "\n",
    "\n",
    "    imlazy = []\n",
    "    for j in range(len(employees)):\n",
    "    #probably more ways to do this, but quickly able to calculate how much coffee is drunk by each employee: \n",
    "    \n",
    "        imlazy.append(howmuch[j]*employees[j])\n",
    "\n",
    "    \n",
    "    whohadthemost=imlazy.index(max(imlazy))\n",
    "    avgbest.append(employees[whohadthemost])\n",
    "    print(\"The best amount to take each time is \" + str(employees[whohadthemost]))\n",
    "    trial +=1\n",
    "\n",
    "\n",
    "    "
   ]
  },
  {
   "cell_type": "code",
   "execution_count": 19,
   "metadata": {
    "collapsed": false
   },
   "outputs": [
    {
     "data": {
      "text/plain": [
       "0.9924304429199349"
      ]
     },
     "execution_count": 19,
     "metadata": {},
     "output_type": "execute_result"
    }
   ],
   "source": [
    "s.mean(avgbest)"
   ]
  },
  {
   "cell_type": "code",
   "execution_count": 20,
   "metadata": {
    "collapsed": false
   },
   "outputs": [
    {
     "data": {
      "text/plain": [
       "array([   1.,  150.,  151.,    1.,  150.,    1.,  150.,  151.,    0.,\n",
       "        151.,  151.,  151.,    0.,  151.,  151.,    0.,  151.,  151.,\n",
       "        151.,  151.,  151.,    0.,  151.,    0.,  151.,  151.,    0.,\n",
       "        151.,    0.,  151.,  151.,  151.,    0.,  151.,    0.,  151.,\n",
       "          0.,  151.,  151.,    0.,  151.,  151.,  151.,  151.,    0.,\n",
       "        151.,    0.,  151.,    0.,  151.,    0.,  151.,  151.,    0.,\n",
       "        151.,    0.,  151.,    0.,  151.,    0.,  151.,  151.,  151.,\n",
       "          0.,  151.,    0.,  151.,    0.,  151.,    0.,  151.,  151.,\n",
       "          0.,  151.,    0.,  151.,  151.,    0.,  151.,  151.,    0.,\n",
       "        151.,  151.,    0.,  151.,    0.,  151.,    0.,  151.,  151.,\n",
       "          0.,  151.,    0.,  151.,    0.,  151.,  151.,    0.,  151.,\n",
       "        151.,  151.,    0.,  151.,  151.,    0.,  151.,  151.,    0.,\n",
       "        151.,  151.,    0.,  151.,  151.,    0.,  151.,    0.,  151.,\n",
       "        151.,  151.,  151.,    0.,  151.,    0.,  151.,  151.,  151.,\n",
       "          0.,  151.,  151.,  151.,    0.,  151.,  151.,  151.,    0.,\n",
       "        151.,  151.,  151.,    0.,  151.,    0.,  151.,    0.,  151.,\n",
       "          0.,  151.,  151.,    0.,  151.,  151.,  151.,  151.,    0.,\n",
       "        151.,  151.,  151.,    0.,  151.,  151.,    0.,  151.,    0.,\n",
       "        151.,  151.,    0.,  151.,  151.,  151.,    0.,  151.,  151.,\n",
       "        151.,    0.,  151.,    0.,  151.,    0.,  151.,  151.,    0.,\n",
       "        151.,    0.,  151.,  151.,  151.,  151.,    0.,  151.,  151.,\n",
       "          0.,  151.,  151.,    0.,  151.,  151.,    0.,  151.,    0.,\n",
       "        151.,  151.,    0.,  151.,  151.,    0.,  151.,  151.,  151.,\n",
       "          0.,  151.,    0.,  151.,  151.,    0.,  151.,  151.,    0.,\n",
       "        151.,  151.,    0.,  151.,  151.,    0.,  151.,  151.,    0.,\n",
       "        151.,  151.,  151.,    0.,  151.,    0.,  151.,    0.,  151.,\n",
       "        151.,  151.,  151.,    0.,  151.,    0.,  151.,  151.,    0.,\n",
       "        151.,    0.,  151.,  151.,    0.,  151.,  151.,    0.,  151.,\n",
       "          0.,  151.,    0.,  151.,    0.,  151.,    0.,  151.,  151.,\n",
       "          0.,  151.,  151.,  151.,  151.,    0.,  151.,    0.,  151.,\n",
       "          0.,  151.,    0.,  151.,    0.,  151.,    0.,  151.,  151.,\n",
       "          0.,  151.,  151.,    0.,  151.,  151.,    0.,  151.,    0.,\n",
       "        151.,    0.,  151.,    0.,  151.,    0.,  151.,  151.,  151.,\n",
       "        151.,    0.,  151.])"
      ]
     },
     "execution_count": 20,
     "metadata": {},
     "output_type": "execute_result"
    }
   ],
   "source": [
    "howmuch"
   ]
  },
  {
   "cell_type": "code",
   "execution_count": null,
   "metadata": {
    "collapsed": false
   },
   "outputs": [],
   "source": [
    "imlazy"
   ]
  },
  {
   "cell_type": "code",
   "execution_count": null,
   "metadata": {
    "collapsed": false
   },
   "outputs": [],
   "source": [
    "0.5401312840111062 - 0.22240738114640152"
   ]
  },
  {
   "cell_type": "code",
   "execution_count": null,
   "metadata": {
    "collapsed": false
   },
   "outputs": [],
   "source": [
    "0.3177239028647047 -0.025095069396083747"
   ]
  },
  {
   "cell_type": "code",
   "execution_count": null,
   "metadata": {
    "collapsed": true
   },
   "outputs": [],
   "source": [
    "1 - "
   ]
  },
  {
   "cell_type": "code",
   "execution_count": null,
   "metadata": {
    "collapsed": true
   },
   "outputs": [],
   "source": []
  },
  {
   "cell_type": "code",
   "execution_count": null,
   "metadata": {
    "collapsed": true
   },
   "outputs": [],
   "source": []
  },
  {
   "cell_type": "code",
   "execution_count": null,
   "metadata": {
    "collapsed": true
   },
   "outputs": [],
   "source": []
  },
  {
   "cell_type": "code",
   "execution_count": null,
   "metadata": {
    "collapsed": true
   },
   "outputs": [],
   "source": []
  },
  {
   "cell_type": "code",
   "execution_count": null,
   "metadata": {
    "collapsed": true
   },
   "outputs": [],
   "source": [
    "if pot-c>=0:\n",
    "        pot=pot-c\n",
    "        cupsC += 1\n",
    "    else:\n",
    "         pot=1\n",
    "    if pot-b>=0:\n",
    "        pot=pot-b\n",
    "        cupsB += 1\n",
    "    else:\n",
    "         pot=1\n",
    "    if pot-a>=0:\n",
    "        pot=pot-a\n",
    "        cupsA += 1\n",
    "    else:\n",
    "         pot=1\n",
    "    day=day-1\n",
    "    "
   ]
  },
  {
   "cell_type": "code",
   "execution_count": null,
   "metadata": {
    "collapsed": false
   },
   "outputs": [],
   "source": [
    "print(a*cupsA,b*cupsB,c*cupsC)"
   ]
  },
  {
   "cell_type": "code",
   "execution_count": null,
   "metadata": {
    "collapsed": false
   },
   "outputs": [],
   "source": [
    "range(len(10))"
   ]
  },
  {
   "cell_type": "code",
   "execution_count": null,
   "metadata": {
    "collapsed": false
   },
   "outputs": [],
   "source": [
    "print(range(0,10,10))"
   ]
  },
  {
   "cell_type": "code",
   "execution_count": null,
   "metadata": {
    "collapsed": false
   },
   "outputs": [],
   "source": [
    "len(employees)"
   ]
  },
  {
   "cell_type": "code",
   "execution_count": null,
   "metadata": {
    "collapsed": false
   },
   "outputs": [],
   "source": [
    "employees"
   ]
  },
  {
   "cell_type": "code",
   "execution_count": null,
   "metadata": {
    "collapsed": false
   },
   "outputs": [],
   "source": [
    "np.zeros(len(employees))"
   ]
  },
  {
   "cell_type": "code",
   "execution_count": null,
   "metadata": {
    "collapsed": true
   },
   "outputs": [],
   "source": []
  }
 ],
 "metadata": {
  "kernelspec": {
   "display_name": "Python 3",
   "language": "python",
   "name": "python3"
  },
  "language_info": {
   "codemirror_mode": {
    "name": "ipython",
    "version": 3
   },
   "file_extension": ".py",
   "mimetype": "text/x-python",
   "name": "python",
   "nbconvert_exporter": "python",
   "pygments_lexer": "ipython3",
   "version": "3.5.2"
  }
 },
 "nbformat": 4,
 "nbformat_minor": 0
}
